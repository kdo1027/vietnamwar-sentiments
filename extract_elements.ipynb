{
 "cells": [
  {
   "cell_type": "code",
   "execution_count": 1,
   "metadata": {},
   "outputs": [],
   "source": [
    "import pandas as pd"
   ]
  },
  {
   "cell_type": "code",
   "execution_count": 37,
   "metadata": {},
   "outputs": [],
   "source": [
    "# Load the dataset\n",
    "file_path = '1967/1967_file.csv'\n",
    "df = pd.read_csv(file_path)"
   ]
  },
  {
   "cell_type": "code",
   "execution_count": 19,
   "metadata": {},
   "outputs": [
    {
     "name": "stdout",
     "output_type": "stream",
     "text": [
      "Headlines have been saved to 1973/headlines.txt\n"
     ]
    }
   ],
   "source": [
    "# Extract the \"headline\" column\n",
    "headlines = df['headline']\n",
    "\n",
    "# Write the headlines to a txt file\n",
    "output_file_path = '1973/headlines.txt'\n",
    "with open(output_file_path, 'w') as file:\n",
    "    for headline in headlines:\n",
    "        file.write(headline + '\\n')\n",
    "\n",
    "print(f'Headlines have been saved to {output_file_path}')"
   ]
  },
  {
   "cell_type": "code",
   "execution_count": 38,
   "metadata": {},
   "outputs": [
    {
     "name": "stdout",
     "output_type": "stream",
     "text": [
      "Lead paragraphs have been saved to lead_paragraph_extracted/1967_lead_paragraphs.txt\n"
     ]
    }
   ],
   "source": [
    "# Extract the \"lead_paragraph\" column and handle NaN values\n",
    "lead_paragraphs = df['lead_paragraph'].fillna('')\n",
    "\n",
    "# Write the lead paragraphs to a txt file\n",
    "output_file_path_lead_paragraphs = 'lead_paragraph_extracted/1967_lead_paragraphs.txt'\n",
    "with open(output_file_path_lead_paragraphs, 'w') as file:\n",
    "    for paragraph in lead_paragraphs:\n",
    "        file.write(paragraph + '\\n')\n",
    "\n",
    "print(f'Lead paragraphs have been saved to {output_file_path_lead_paragraphs}')"
   ]
  }
 ],
 "metadata": {
  "kernelspec": {
   "display_name": "base",
   "language": "python",
   "name": "python3"
  },
  "language_info": {
   "codemirror_mode": {
    "name": "ipython",
    "version": 3
   },
   "file_extension": ".py",
   "mimetype": "text/x-python",
   "name": "python",
   "nbconvert_exporter": "python",
   "pygments_lexer": "ipython3",
   "version": "3.9.12"
  }
 },
 "nbformat": 4,
 "nbformat_minor": 2
}
